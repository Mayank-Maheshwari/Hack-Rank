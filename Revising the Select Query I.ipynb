{
 "cells": [
  {
   "cell_type": "markdown",
   "metadata": {
    "application/vnd.databricks.v1+cell": {
     "cellMetadata": {},
     "inputWidgets": {},
     "nuid": "120d6a4e-1a43-43cc-b719-b0accd01fdbb",
     "showTitle": false,
     "tableResultSettingsMap": {},
     "title": ""
    }
   },
   "source": [
    "\n",
    "\n",
    "Query all columns for all American cities in the CITY table with populations larger than 100000. The CountryCode for America is USA.\n",
    "\n",
    "The CITY table is described as follows:",
    "\n",
    "\n",
    "![Alt Text](https://s3.amazonaws.com/hr-challenge-images/8137/1449729804-f21d187d0f-CITY.jpg)"
   ]
  },
  {
   "cell_type": "code",
   "execution_count": 0,
   "metadata": {
    "application/vnd.databricks.v1+cell": {
     "cellMetadata": {
      "byteLimit": 2048000,
      "rowLimit": 10000
     },
     "inputWidgets": {},
     "nuid": "f0d540e7-cb32-4d7a-9e27-262883109388",
     "showTitle": false,
     "tableResultSettingsMap": {},
     "title": ""
    }
   },
   "outputs": [
    {
     "output_type": "stream",
     "name": "stdout",
     "output_type": "stream",
     "text": [
      "+---+------------+-----------+------------+----------+\n| ID|        Name|CountryCode|    District|Population|\n+---+------------+-----------+------------+----------+\n|  1|    New York|        USA|    New York|   8400000|\n|  2| Los Angeles|        USA|  California|   4000000|\n|  3|     Chicago|        USA|    Illinois|   2700000|\n|  4|     Houston|        USA|       Texas|   2300000|\n|  5|Philadelphia|        USA|Pennsylvania|   1600000|\n|  6|     Phoenix|        USA|     Arizona|   1500000|\n|  7| San Antonio|        USA|       Texas|   1400000|\n|  8|   San Diego|        USA|  California|   1300000|\n|  9|      Dallas|        USA|       Texas|   1200000|\n| 10|    San Jose|        USA|  California|   1000000|\n| 11|      Austin|        USA|       Texas|    950000|\n| 12|      London|        GBR|     England|   8000000|\n| 13|   Smalltown|        USA|     Unknown|     90000|\n| 14|     NonCity|        CAN|     Ontario|    500000|\n+---+------------+-----------+------------+----------+\n\n"
     ]
    }
   ],
   "source": [
    "from pyspark.sql import SparkSession\n",
    "from pyspark.sql.types import StructType, StructField, IntegerType, StringType\n",
    "\n",
    "# Initialize Spark session\n",
    "spark = SparkSession.builder.appName(\"CityQuery\").getOrCreate()\n",
    "\n",
    "# Define the schema for the CITY table\n",
    "schema = StructType([\n",
    "    StructField(\"ID\", IntegerType(), True),\n",
    "    StructField(\"Name\", StringType(), True),\n",
    "    StructField(\"CountryCode\", StringType(), True),\n",
    "    StructField(\"District\", StringType(), True),\n",
    "    StructField(\"Population\", IntegerType(), True)\n",
    "])\n",
    "\n",
    "# Create the sample data as a list of tuples\n",
    "data = [\n",
    "    (1, \"New York\", \"USA\", \"New York\", 8400000),\n",
    "    (2, \"Los Angeles\", \"USA\", \"California\", 4000000),\n",
    "    (3, \"Chicago\", \"USA\", \"Illinois\", 2700000),\n",
    "    (4, \"Houston\", \"USA\", \"Texas\", 2300000),\n",
    "    (5, \"Philadelphia\", \"USA\", \"Pennsylvania\", 1600000),\n",
    "    (6, \"Phoenix\", \"USA\", \"Arizona\", 1500000),\n",
    "    (7, \"San Antonio\", \"USA\", \"Texas\", 1400000),\n",
    "    (8, \"San Diego\", \"USA\", \"California\", 1300000),\n",
    "    (9, \"Dallas\", \"USA\", \"Texas\", 1200000),\n",
    "    (10, \"San Jose\", \"USA\", \"California\", 1000000),\n",
    "    (11, \"Austin\", \"USA\", \"Texas\", 950000),\n",
    "    (12, \"London\", \"GBR\", \"England\", 8000000),\n",
    "    (13, \"Smalltown\", \"USA\", \"Unknown\", 90000),\n",
    "    (14, \"NonCity\", \"CAN\", \"Ontario\", 500000)\n",
    "]\n",
    "\n",
    "# Create DataFrame using the data and schema\n",
    "df = spark.createDataFrame(data, schema)\n",
    "\n",
    "# Register the DataFrame as a temporary view to run SQL queries\n",
    "df.createOrReplaceTempView(\"CITY\")\n",
    "\n",
    "# Optionally, display the DataFrame\n",
    "df.show()\n"
   ]
  },
  {
   "cell_type": "code",
   "execution_count": 0,
   "metadata": {
    "application/vnd.databricks.v1+cell": {
     "cellMetadata": {
      "byteLimit": 2048000,
      "implicitDf": true,
      "rowLimit": 10000
     },
     "inputWidgets": {},
     "nuid": "25592def-1dc4-4381-be88-07e4284ca04a",
     "showTitle": false,
     "tableResultSettingsMap": {},
     "title": ""
    }
   },
   "outputs": [
    {
     "output_type": "display_data",
     "data": {
      "text/html": [
       "<style scoped>\n",
       "  .table-result-container {\n",
       "    max-height: 300px;\n",
       "    overflow: auto;\n",
       "  }\n",
       "  table, th, td {\n",
       "    border: 1px solid black;\n",
       "    border-collapse: collapse;\n",
       "  }\n",
       "  th, td {\n",
       "    padding: 5px;\n",
       "  }\n",
       "  th {\n",
       "    text-align: left;\n",
       "  }\n",
       "</style><div class='table-result-container'><table class='table-result'><thead style='background-color: white'><tr><th>ID</th><th>Name</th><th>CountryCode</th><th>District</th><th>Population</th></tr></thead><tbody><tr><td>1</td><td>New York</td><td>USA</td><td>New York</td><td>8400000</td></tr><tr><td>2</td><td>Los Angeles</td><td>USA</td><td>California</td><td>4000000</td></tr><tr><td>3</td><td>Chicago</td><td>USA</td><td>Illinois</td><td>2700000</td></tr><tr><td>4</td><td>Houston</td><td>USA</td><td>Texas</td><td>2300000</td></tr><tr><td>5</td><td>Philadelphia</td><td>USA</td><td>Pennsylvania</td><td>1600000</td></tr><tr><td>6</td><td>Phoenix</td><td>USA</td><td>Arizona</td><td>1500000</td></tr><tr><td>7</td><td>San Antonio</td><td>USA</td><td>Texas</td><td>1400000</td></tr><tr><td>8</td><td>San Diego</td><td>USA</td><td>California</td><td>1300000</td></tr><tr><td>9</td><td>Dallas</td><td>USA</td><td>Texas</td><td>1200000</td></tr><tr><td>10</td><td>San Jose</td><td>USA</td><td>California</td><td>1000000</td></tr><tr><td>11</td><td>Austin</td><td>USA</td><td>Texas</td><td>950000</td></tr></tbody></table></div>"
      ]
     },
     "metadata": {
      "application/vnd.databricks.v1+output": {
       "addedWidgets": {},
       "aggData": [],
       "aggError": "",
       "aggOverflow": false,
       "aggSchema": [],
       "aggSeriesLimitReached": false,
       "aggType": "",
       "arguments": {},
       "columnCustomDisplayInfos": {},
       "data": [
        [
         1,
         "New York",
         "USA",
         "New York",
         8400000
        ],
        [
         2,
         "Los Angeles",
         "USA",
         "California",
         4000000
        ],
        [
         3,
         "Chicago",
         "USA",
         "Illinois",
         2700000
        ],
        [
         4,
         "Houston",
         "USA",
         "Texas",
         2300000
        ],
        [
         5,
         "Philadelphia",
         "USA",
         "Pennsylvania",
         1600000
        ],
        [
         6,
         "Phoenix",
         "USA",
         "Arizona",
         1500000
        ],
        [
         7,
         "San Antonio",
         "USA",
         "Texas",
         1400000
        ],
        [
         8,
         "San Diego",
         "USA",
         "California",
         1300000
        ],
        [
         9,
         "Dallas",
         "USA",
         "Texas",
         1200000
        ],
        [
         10,
         "San Jose",
         "USA",
         "California",
         1000000
        ],
        [
         11,
         "Austin",
         "USA",
         "Texas",
         950000
        ]
       ],
       "datasetInfos": [],
       "dbfsResultPath": null,
       "isJsonSchema": true,
       "metadata": {},
       "overflow": false,
       "plotOptions": {
        "customPlotOptions": {},
        "displayType": "table",
        "pivotAggregation": null,
        "pivotColumns": null,
        "xColumns": null,
        "yColumns": null
       },
       "removedWidgets": [],
       "schema": [
        {
         "metadata": "{}",
         "name": "ID",
         "type": "\"integer\""
        },
        {
         "metadata": "{}",
         "name": "Name",
         "type": "\"string\""
        },
        {
         "metadata": "{}",
         "name": "CountryCode",
         "type": "\"string\""
        },
        {
         "metadata": "{}",
         "name": "District",
         "type": "\"string\""
        },
        {
         "metadata": "{}",
         "name": "Population",
         "type": "\"integer\""
        }
       ],
       "type": "table"
      }
     },
     "output_type": "display_data"
    }
   ],
   "source": [
    "%sql\n",
    "SELECT *\n",
    "FROM CITY\n",
    "where CountryCode = 'USA' and Population > 100000"
   ]
  },
  {
   "cell_type": "code",
   "execution_count": 0,
   "metadata": {
    "application/vnd.databricks.v1+cell": {
     "cellMetadata": {
      "byteLimit": 2048000,
      "rowLimit": 10000
     },
     "inputWidgets": {},
     "nuid": "f2cf0c3f-7abb-4d10-8412-e2a711d16229",
     "showTitle": false,
     "tableResultSettingsMap": {},
     "title": ""
    }
   },
   "outputs": [
    {
     "output_type": "stream",
     "name": "stdout",
     "output_type": "stream",
     "text": [
      "+---+------------+-----------+------------+----------+\n| ID|        Name|CountryCode|    District|Population|\n+---+------------+-----------+------------+----------+\n|  1|    New York|        USA|    New York|   8400000|\n|  2| Los Angeles|        USA|  California|   4000000|\n|  3|     Chicago|        USA|    Illinois|   2700000|\n|  4|     Houston|        USA|       Texas|   2300000|\n|  5|Philadelphia|        USA|Pennsylvania|   1600000|\n|  6|     Phoenix|        USA|     Arizona|   1500000|\n|  7| San Antonio|        USA|       Texas|   1400000|\n|  8|   San Diego|        USA|  California|   1300000|\n|  9|      Dallas|        USA|       Texas|   1200000|\n| 10|    San Jose|        USA|  California|   1000000|\n| 11|      Austin|        USA|       Texas|    950000|\n+---+------------+-----------+------------+----------+\n\n"
     ]
    }
   ],
   "source": [
    "result = df.where(\" CountryCode = 'USA' and Population > 100000\")\n",
    "result.show()"
   ]
  }
 ],
 "metadata": {
  "application/vnd.databricks.v1+notebook": {
   "computePreferences": null,
   "dashboards": [],
   "environmentMetadata": {
    "base_environment": "",
    "environment_version": "1"
   },
   "inputWidgetPreferences": null,
   "language": "python",
   "notebookMetadata": {
    "mostRecentlyExecutedCommandWithImplicitDF": {
     "commandId": 49191373949594,
     "dataframes": [
      "_sqldf"
     ]
    },
    "pythonIndentUnit": 4
   },
   "notebookName": "Revising the Select Query I",
   "widgets": {}
  }
 },
 "nbformat": 4,
 "nbformat_minor": 0
}
