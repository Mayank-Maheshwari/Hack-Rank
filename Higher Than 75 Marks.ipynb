{
 "cells": [
  {
   "cell_type": "markdown",
   "metadata": {
    "application/vnd.databricks.v1+cell": {
     "cellMetadata": {
      "byteLimit": 2048000,
      "rowLimit": 10000
     },
     "inputWidgets": {},
     "nuid": "6260c2d9-7a76-4fa6-9128-8d991aed82cb",
     "showTitle": false,
     "tableResultSettingsMap": {},
     "title": ""
    }
   },
   "source": [
    "Query the Name of any student in STUDENTS who scored higher than  Marks. Order your output by the last three characters of each name. If two or more students both have names ending in the same last three characters (i.e.: Bobby, Robby, etc.), secondary sort them by ascending ID.\n",
    "\n",
    "Input Format\n",
    "\n",
    "The STUDENTS table is described as follows:  \n",
    "\n",
    "![Output](https://s3.amazonaws.com/hr-challenge-images/12896/1443815243-94b941f556-1.png)\n",
    "\n",
    "\n",
    "The Name column only contains uppercase (A-Z) and lowercase (a-z) letters.\n",
    "\n",
    "Sample Input\n",
    "\n",
    "![Output](https://s3.amazonaws.com/hr-challenge-images/12896/1443815209-cf4b260993-2.png)\n",
    "\n",
    "\n",
    "Sample Output\n",
    "\n",
    "Ashley\n",
    "Julia\n",
    "Belvet\n",
    "Explanation\n",
    "\n",
    "Only Ashley, Julia, and Belvet have Marks > . If you look at the last three characters of each of their names, there are no duplicates and 'ley' < 'lia' < 'vet'."
   ]
  },
  {
   "cell_type": "code",
   "execution_count": 0,
   "metadata": {
    "application/vnd.databricks.v1+cell": {
     "cellMetadata": {
      "byteLimit": 2048000,
      "rowLimit": 10000
     },
     "inputWidgets": {},
     "nuid": "28fecd0c-95de-4485-a141-9c40079dbd99",
     "showTitle": false,
     "tableResultSettingsMap": {},
     "title": ""
    }
   },
   "outputs": [
    {
     "output_type": "stream",
     "name": "stdout",
     "output_type": "stream",
     "text": [
      "+---+-------+-----+\n| ID|   Name|Marks|\n+---+-------+-----+\n|  1| Ashley|   85|\n|  2|  Julia|   90|\n|  3| Belvet|   88|\n|  4|  Bobby|   75|\n|  5|  Robby|   60|\n|  6|Charlie|   95|\n|  7| Andrew|   80|\n+---+-------+-----+\n\n"
     ]
    }
   ],
   "source": [
    "from pyspark.sql import SparkSession\n",
    "from pyspark.sql.types import StructType, StructField, IntegerType, StringType\n",
    "\n",
    "# Initialize Spark session\n",
    "spark = SparkSession.builder.appName(\"StudentRecords\").getOrCreate()\n",
    "\n",
    "# Define schema\n",
    "schema = StructType([\n",
    "    StructField(\"ID\", IntegerType(), True),\n",
    "    StructField(\"Name\", StringType(), True),\n",
    "    StructField(\"Marks\", IntegerType(), True)\n",
    "])\n",
    "\n",
    "# Create DataFrame\n",
    "data = [\n",
    "    (1, \"Ashley\", 85),\n",
    "    (2, \"Julia\", 90),\n",
    "    (3, \"Belvet\", 88),\n",
    "    (4, \"Bobby\", 75),\n",
    "    (5, \"Robby\", 60),\n",
    "    (6, \"Charlie\", 95),\n",
    "    (7, \"Andrew\", 80)\n",
    "]\n",
    "\n",
    "df = spark.createDataFrame(data, schema=schema)\n",
    "\n",
    "# Save the DataFrame as a temporary table\n",
    "df.createOrReplaceTempView(\"STUDENTS\")\n",
    "\n",
    "# Save as a permanent table (if needed)\n",
    "# df.write.mode(\"overwrite\").saveAsTable(\"STUDENTS\")\n",
    "\n",
    "# Show the DataFrame\n",
    "df.show()\n"
   ]
  },
  {
   "cell_type": "code",
   "execution_count": 0,
   "metadata": {
    "application/vnd.databricks.v1+cell": {
     "cellMetadata": {
      "byteLimit": 2048000,
      "implicitDf": true,
      "rowLimit": 10000
     },
     "inputWidgets": {},
     "nuid": "65a58f61-f110-4772-aa3d-eac584891f00",
     "showTitle": false,
     "tableResultSettingsMap": {},
     "title": ""
    }
   },
   "outputs": [
    {
     "output_type": "display_data",
     "data": {
      "text/html": [
       "<style scoped>\n",
       "  .table-result-container {\n",
       "    max-height: 300px;\n",
       "    overflow: auto;\n",
       "  }\n",
       "  table, th, td {\n",
       "    border: 1px solid black;\n",
       "    border-collapse: collapse;\n",
       "  }\n",
       "  th, td {\n",
       "    padding: 5px;\n",
       "  }\n",
       "  th {\n",
       "    text-align: left;\n",
       "  }\n",
       "</style><div class='table-result-container'><table class='table-result'><thead style='background-color: white'><tr><th>ID</th><th>Name</th><th>Marks</th></tr></thead><tbody><tr><td>1</td><td>Ashley</td><td>85</td></tr><tr><td>2</td><td>Julia</td><td>90</td></tr><tr><td>6</td><td>Charlie</td><td>95</td></tr><tr><td>7</td><td>Andrew</td><td>80</td></tr><tr><td>3</td><td>Belvet</td><td>88</td></tr></tbody></table></div>"
      ]
     },
     "metadata": {
      "application/vnd.databricks.v1+output": {
       "addedWidgets": {},
       "aggData": [],
       "aggError": "",
       "aggOverflow": false,
       "aggSchema": [],
       "aggSeriesLimitReached": false,
       "aggType": "",
       "arguments": {},
       "columnCustomDisplayInfos": {},
       "data": [
        [
         1,
         "Ashley",
         85
        ],
        [
         2,
         "Julia",
         90
        ],
        [
         6,
         "Charlie",
         95
        ],
        [
         7,
         "Andrew",
         80
        ],
        [
         3,
         "Belvet",
         88
        ]
       ],
       "datasetInfos": [],
       "dbfsResultPath": null,
       "isJsonSchema": true,
       "metadata": {},
       "overflow": false,
       "plotOptions": {
        "customPlotOptions": {},
        "displayType": "table",
        "pivotAggregation": null,
        "pivotColumns": null,
        "xColumns": null,
        "yColumns": null
       },
       "removedWidgets": [],
       "schema": [
        {
         "metadata": "{}",
         "name": "ID",
         "type": "\"integer\""
        },
        {
         "metadata": "{}",
         "name": "Name",
         "type": "\"string\""
        },
        {
         "metadata": "{}",
         "name": "Marks",
         "type": "\"integer\""
        }
       ],
       "type": "table"
      }
     },
     "output_type": "display_data"
    }
   ],
   "source": [
    "%sql\n",
    "SELECT *\n",
    "FROM STUDENTS\n",
    "WHERE Marks > 75\n",
    "ORDER BY RIGHT(Name,3)ASC, ID ASC"
   ]
  },
  {
   "cell_type": "code",
   "execution_count": 0,
   "metadata": {
    "application/vnd.databricks.v1+cell": {
     "cellMetadata": {
      "byteLimit": 2048000,
      "rowLimit": 10000
     },
     "inputWidgets": {},
     "nuid": "7ee15a5a-b50c-4647-8401-a72f5d5a9175",
     "showTitle": false,
     "tableResultSettingsMap": {},
     "title": ""
    }
   },
   "outputs": [
    {
     "output_type": "stream",
     "name": "stdout",
     "output_type": "stream",
     "text": [
      "+---+-------+-----+------------+\n| ID|   Name|Marks|last_3_chars|\n+---+-------+-----+------------+\n|  1| Ashley|   85|         ley|\n|  2|  Julia|   90|         lia|\n|  6|Charlie|   95|         lie|\n|  7| Andrew|   80|         rew|\n|  3| Belvet|   88|         vet|\n+---+-------+-----+------------+\n\n"
     ]
    }
   ],
   "source": [
    "from pyspark.sql.functions import substring, length, asc,col\n",
    "\n",
    "# Calculate the last 3 characters\n",
    "df_with_last3 = df.withColumn(\"last_3_chars\", substring(df[\"Name\"], -3, 3))\n",
    "\n",
    "# Show the results\n",
    "result = df_with_last3.where('Marks > 75')\n",
    "result.orderBy([\"last_3_chars\", \"ID\"], ascending=[True, True]).show()"
   ]
  }
 ],
 "metadata": {
  "application/vnd.databricks.v1+notebook": {
   "computePreferences": null,
   "dashboards": [],
   "environmentMetadata": {
    "base_environment": "",
    "environment_version": "1"
   },
   "inputWidgetPreferences": null,
   "language": "python",
   "notebookMetadata": {
    "mostRecentlyExecutedCommandWithImplicitDF": {
     "commandId": 946361087265136,
     "dataframes": [
      "_sqldf"
     ]
    },
    "pythonIndentUnit": 4
   },
   "notebookName": "Higher Than 75 Marks",
   "widgets": {}
  }
 },
 "nbformat": 4,
 "nbformat_minor": 0
}