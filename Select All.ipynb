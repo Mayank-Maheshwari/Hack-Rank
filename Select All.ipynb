{
 "cells": [
  {
   "cell_type": "markdown",
   "metadata": {
    "application/vnd.databricks.v1+cell": {
     "cellMetadata": {
      "byteLimit": 2048000,
      "rowLimit": 10000
     },
     "inputWidgets": {},
     "nuid": "86752bb7-ac62-4e64-b8c6-b226bc5994ba",
     "showTitle": false,
     "tableResultSettingsMap": {},
     "title": ""
    }
   },
   "source": [
    "Query all columns (attributes) for every row in the CITY table.\n",
    "\n",
    "The CITY table is described as follows:\n",
    "\n",
    "![Output](https://s3.amazonaws.com/hr-challenge-images/8137/1449729804-f21d187d0f-CITY.jpg)"
   ]
  },
  {
   "cell_type": "code",
   "execution_count": 0,
   "metadata": {
    "application/vnd.databricks.v1+cell": {
     "cellMetadata": {
      "byteLimit": 2048000,
      "rowLimit": 10000
     },
     "inputWidgets": {},
     "nuid": "4710b67a-f0a2-44f7-90aa-e517e0ff2076",
     "showTitle": false,
     "tableResultSettingsMap": {},
     "title": ""
    }
   },
   "outputs": [
    {
     "output_type": "stream",
     "name": "stdout",
     "output_type": "stream",
     "text": [
      "+---+-----------+-----------+----------+----------+\n| ID|       Name|CountryCode|  District|Population|\n+---+-----------+-----------+----------+----------+\n|  1|   New York|        USA|  New York|   8008278|\n|  2|Los Angeles|        USA|California|   3694820|\n|  3|    Chicago|        USA|  Illinois|   2896016|\n|  4|    Houston|        USA|     Texas|   1953631|\n|  5|    Phoenix|        USA|   Arizona|   1445632|\n+---+-----------+-----------+----------+----------+\n\n"
     ]
    }
   ],
   "source": [
    "from pyspark.sql import SparkSession\n",
    "\n",
    "# Create Spark session\n",
    "spark = SparkSession.builder.appName(\"CityQuery\").getOrCreate()\n",
    "\n",
    "# Sample data\n",
    "data = [\n",
    "    (1, \"New York\", \"USA\", \"New York\", 8008278),\n",
    "    (2, \"Los Angeles\", \"USA\", \"California\", 3694820),\n",
    "    (3, \"Chicago\", \"USA\", \"Illinois\", 2896016),\n",
    "    (4, \"Houston\", \"USA\", \"Texas\", 1953631),\n",
    "    (5, \"Phoenix\", \"USA\", \"Arizona\", 1445632)\n",
    "]\n",
    "\n",
    "# Define schema\n",
    "columns = [\"ID\", \"Name\", \"CountryCode\", \"District\", \"Population\"]\n",
    "\n",
    "# Create DataFrame\n",
    "city_df = spark.createDataFrame(data, columns)\n",
    "\n",
    "# Show the data\n",
    "city_df.show()\n",
    "\n",
    "city_df.createOrReplaceTempView(\"CITY\")\n"
   ]
  },
  {
   "cell_type": "code",
   "execution_count": 0,
   "metadata": {
    "application/vnd.databricks.v1+cell": {
     "cellMetadata": {
      "byteLimit": 2048000,
      "implicitDf": true,
      "rowLimit": 10000
     },
     "inputWidgets": {},
     "nuid": "a56ce6a2-1416-44f7-9cd3-3293c642308b",
     "showTitle": false,
     "tableResultSettingsMap": {},
     "title": ""
    }
   },
   "outputs": [
    {
     "output_type": "display_data",
     "data": {
      "text/html": [
       "<style scoped>\n",
       "  .table-result-container {\n",
       "    max-height: 300px;\n",
       "    overflow: auto;\n",
       "  }\n",
       "  table, th, td {\n",
       "    border: 1px solid black;\n",
       "    border-collapse: collapse;\n",
       "  }\n",
       "  th, td {\n",
       "    padding: 5px;\n",
       "  }\n",
       "  th {\n",
       "    text-align: left;\n",
       "  }\n",
       "</style><div class='table-result-container'><table class='table-result'><thead style='background-color: white'><tr><th>ID</th><th>Name</th><th>CountryCode</th><th>District</th><th>Population</th></tr></thead><tbody><tr><td>1</td><td>New York</td><td>USA</td><td>New York</td><td>8008278</td></tr><tr><td>2</td><td>Los Angeles</td><td>USA</td><td>California</td><td>3694820</td></tr><tr><td>3</td><td>Chicago</td><td>USA</td><td>Illinois</td><td>2896016</td></tr><tr><td>4</td><td>Houston</td><td>USA</td><td>Texas</td><td>1953631</td></tr><tr><td>5</td><td>Phoenix</td><td>USA</td><td>Arizona</td><td>1445632</td></tr></tbody></table></div>"
      ]
     },
     "metadata": {
      "application/vnd.databricks.v1+output": {
       "addedWidgets": {},
       "aggData": [],
       "aggError": "",
       "aggOverflow": false,
       "aggSchema": [],
       "aggSeriesLimitReached": false,
       "aggType": "",
       "arguments": {},
       "columnCustomDisplayInfos": {},
       "data": [
        [
         1,
         "New York",
         "USA",
         "New York",
         8008278
        ],
        [
         2,
         "Los Angeles",
         "USA",
         "California",
         3694820
        ],
        [
         3,
         "Chicago",
         "USA",
         "Illinois",
         2896016
        ],
        [
         4,
         "Houston",
         "USA",
         "Texas",
         1953631
        ],
        [
         5,
         "Phoenix",
         "USA",
         "Arizona",
         1445632
        ]
       ],
       "datasetInfos": [],
       "dbfsResultPath": null,
       "isJsonSchema": true,
       "metadata": {},
       "overflow": false,
       "plotOptions": {
        "customPlotOptions": {},
        "displayType": "table",
        "pivotAggregation": null,
        "pivotColumns": null,
        "xColumns": null,
        "yColumns": null
       },
       "removedWidgets": [],
       "schema": [
        {
         "metadata": "{}",
         "name": "ID",
         "type": "\"long\""
        },
        {
         "metadata": "{}",
         "name": "Name",
         "type": "\"string\""
        },
        {
         "metadata": "{}",
         "name": "CountryCode",
         "type": "\"string\""
        },
        {
         "metadata": "{}",
         "name": "District",
         "type": "\"string\""
        },
        {
         "metadata": "{}",
         "name": "Population",
         "type": "\"long\""
        }
       ],
       "type": "table"
      }
     },
     "output_type": "display_data"
    }
   ],
   "source": [
    "%sql\n",
    "SELECT *\n",
    "FROM CITY"
   ]
  },
  {
   "cell_type": "code",
   "execution_count": 0,
   "metadata": {
    "application/vnd.databricks.v1+cell": {
     "cellMetadata": {
      "byteLimit": 2048000,
      "rowLimit": 10000
     },
     "inputWidgets": {},
     "nuid": "1f02e4f3-e438-43dd-b62d-f1e0814fea7a",
     "showTitle": false,
     "tableResultSettingsMap": {},
     "title": ""
    }
   },
   "outputs": [
    {
     "output_type": "stream",
     "name": "stdout",
     "output_type": "stream",
     "text": [
      "+---+-----------+-----------+----------+----------+\n| ID|       Name|CountryCode|  District|Population|\n+---+-----------+-----------+----------+----------+\n|  1|   New York|        USA|  New York|   8008278|\n|  2|Los Angeles|        USA|California|   3694820|\n|  3|    Chicago|        USA|  Illinois|   2896016|\n|  4|    Houston|        USA|     Texas|   1953631|\n|  5|    Phoenix|        USA|   Arizona|   1445632|\n+---+-----------+-----------+----------+----------+\n\nOut[3]: DataFrame[ID: bigint, Name: string, CountryCode: string, District: string, Population: bigint]"
     ]
    }
   ],
   "source": [
    "city_df.show()\n"
   ]
  },
  {
   "cell_type": "code",
   "execution_count": 0,
   "metadata": {
    "application/vnd.databricks.v1+cell": {
     "cellMetadata": {
      "byteLimit": 2048000,
      "rowLimit": 10000
     },
     "inputWidgets": {},
     "nuid": "d55d3c97-6445-41d1-a8c2-d72904cc57cc",
     "showTitle": false,
     "tableResultSettingsMap": {},
     "title": ""
    }
   },
   "outputs": [
    {
     "output_type": "stream",
     "name": "stdout",
     "output_type": "stream",
     "text": [
      "+---+-----------+-----------+----------+----------+\n| ID|       Name|CountryCode|  District|Population|\n+---+-----------+-----------+----------+----------+\n|  1|   New York|        USA|  New York|   8008278|\n|  2|Los Angeles|        USA|California|   3694820|\n|  3|    Chicago|        USA|  Illinois|   2896016|\n|  4|    Houston|        USA|     Texas|   1953631|\n|  5|    Phoenix|        USA|   Arizona|   1445632|\n+---+-----------+-----------+----------+----------+\n\n"
     ]
    }
   ],
   "source": [
    "\n",
    "city_df.select(\"ID\", \"Name\", \"CountryCode\", \"District\", \"Population\").show()"
   ]
  }
 ],
 "metadata": {
  "application/vnd.databricks.v1+notebook": {
   "computePreferences": null,
   "dashboards": [],
   "environmentMetadata": {
    "base_environment": "",
    "environment_version": "1"
   },
   "inputWidgetPreferences": null,
   "language": "python",
   "notebookMetadata": {
    "mostRecentlyExecutedCommandWithImplicitDF": {
     "commandId": 2249188526804611,
     "dataframes": [
      "_sqldf"
     ]
    },
    "pythonIndentUnit": 4
   },
   "notebookName": "Select All",
   "widgets": {}
  }
 },
 "nbformat": 4,
 "nbformat_minor": 0
}