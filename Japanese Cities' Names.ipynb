{
 "cells": [
  {
   "cell_type": "markdown",
   "metadata": {
    "application/vnd.databricks.v1+cell": {
     "cellMetadata": {
      "byteLimit": 2048000,
      "rowLimit": 10000
     },
     "inputWidgets": {},
     "nuid": "86752bb7-ac62-4e64-b8c6-b226bc5994ba",
     "showTitle": false,
     "tableResultSettingsMap": {},
     "title": ""
    }
   },
   "source": [
    "Query the names of all the Japanese cities in the CITY table. The COUNTRYCODE for Japan is JPN.\n",
    "The CITY table is described as follows:\n",
    "\n",
    "![Output](https://s3.amazonaws.com/hr-challenge-images/8137/1449729804-f21d187d0f-CITY.jpg)"
   ]
  },
  {
   "cell_type": "code",
   "execution_count": 0,
   "metadata": {
    "application/vnd.databricks.v1+cell": {
     "cellMetadata": {
      "byteLimit": 2048000,
      "rowLimit": 10000
     },
     "inputWidgets": {},
     "nuid": "4710b67a-f0a2-44f7-90aa-e517e0ff2076",
     "showTitle": false,
     "tableResultSettingsMap": {},
     "title": ""
    }
   },
   "outputs": [],
   "source": [
    "from pyspark.sql import SparkSession\n",
    "\n",
    "# Start Spark session\n",
    "spark = SparkSession.builder \\\n",
    "    .appName(\"Japanese Cities Query\") \\\n",
    "    .getOrCreate()\n",
    "\n",
    "# Sample data including Japanese cities\n",
    "city_data = [\n",
    "    (1, \"Tokyo\", \"JPN\", \"Tokyo-to\", 13350000),\n",
    "    (2, \"Osaka\", \"JPN\", \"Osaka\", 2691000),\n",
    "    (3, \"Kyoto\", \"JPN\", \"Kyoto\", 1475000),\n",
    "    (4, \"Nagoya\", \"JPN\", \"Aichi\", 2296000),\n",
    "    (5, \"New York\", \"USA\", \"New York\", 8008278),\n",
    "    (6, \"London\", \"GBR\", \"England\", 8788000)\n",
    "]\n",
    "\n",
    "columns = [\"ID\", \"NAME\", \"COUNTRYCODE\", \"DISTRICT\", \"POPULATION\"]\n",
    "\n",
    "# Create DataFrame\n",
    "city_df = spark.createDataFrame(city_data, columns)\n",
    "\n",
    "# Register as a temporary table\n",
    "city_df.createOrReplaceTempView(\"CITY\")\n"
   ]
  },
  {
   "cell_type": "code",
   "execution_count": 0,
   "metadata": {
    "application/vnd.databricks.v1+cell": {
     "cellMetadata": {
      "byteLimit": 2048000,
      "implicitDf": true,
      "rowLimit": 10000
     },
     "inputWidgets": {},
     "nuid": "a56ce6a2-1416-44f7-9cd3-3293c642308b",
     "showTitle": false,
     "tableResultSettingsMap": {},
     "title": ""
    }
   },
   "outputs": [
    {
     "output_type": "display_data",
     "data": {
      "text/html": [
       "<style scoped>\n",
       "  .table-result-container {\n",
       "    max-height: 300px;\n",
       "    overflow: auto;\n",
       "  }\n",
       "  table, th, td {\n",
       "    border: 1px solid black;\n",
       "    border-collapse: collapse;\n",
       "  }\n",
       "  th, td {\n",
       "    padding: 5px;\n",
       "  }\n",
       "  th {\n",
       "    text-align: left;\n",
       "  }\n",
       "</style><div class='table-result-container'><table class='table-result'><thead style='background-color: white'><tr><th>Name</th></tr></thead><tbody><tr><td>Tokyo</td></tr><tr><td>Osaka</td></tr><tr><td>Kyoto</td></tr><tr><td>Nagoya</td></tr></tbody></table></div>"
      ]
     },
     "metadata": {
      "application/vnd.databricks.v1+output": {
       "addedWidgets": {},
       "aggData": [],
       "aggError": "",
       "aggOverflow": false,
       "aggSchema": [],
       "aggSeriesLimitReached": false,
       "aggType": "",
       "arguments": {},
       "columnCustomDisplayInfos": {},
       "data": [
        [
         "Tokyo"
        ],
        [
         "Osaka"
        ],
        [
         "Kyoto"
        ],
        [
         "Nagoya"
        ]
       ],
       "datasetInfos": [],
       "dbfsResultPath": null,
       "isJsonSchema": true,
       "metadata": {},
       "overflow": false,
       "plotOptions": {
        "customPlotOptions": {},
        "displayType": "table",
        "pivotAggregation": null,
        "pivotColumns": null,
        "xColumns": null,
        "yColumns": null
       },
       "removedWidgets": [],
       "schema": [
        {
         "metadata": "{}",
         "name": "Name",
         "type": "\"string\""
        }
       ],
       "type": "table"
      }
     },
     "output_type": "display_data"
    }
   ],
   "source": [
    "%sql\n",
    "SELECT Name\n",
    "FROM CITY\n",
    "WHERE COUNTRYCODE = \"JPN\""
   ]
  },
  {
   "cell_type": "code",
   "execution_count": 0,
   "metadata": {
    "application/vnd.databricks.v1+cell": {
     "cellMetadata": {
      "byteLimit": 2048000,
      "rowLimit": 10000
     },
     "inputWidgets": {},
     "nuid": "857ab29e-1993-4961-b90b-fa295b54b0c8",
     "showTitle": false,
     "tableResultSettingsMap": {},
     "title": ""
    }
   },
   "outputs": [
    {
     "output_type": "stream",
     "name": "stdout",
     "output_type": "stream",
     "text": [
      "+------+\n|  Name|\n+------+\n| Tokyo|\n| Osaka|\n| Kyoto|\n|Nagoya|\n+------+\n\n"
     ]
    }
   ],
   "source": [
    "city_df.filter(\"COUNTRYCODE == 'JPN'\").select(\"Name\").show()"
   ]
  }
 ],
 "metadata": {
  "application/vnd.databricks.v1+notebook": {
   "computePreferences": null,
   "dashboards": [],
   "environmentMetadata": {
    "base_environment": "",
    "environment_version": "1"
   },
   "inputWidgetPreferences": null,
   "language": "python",
   "notebookMetadata": {
    "mostRecentlyExecutedCommandWithImplicitDF": {
     "commandId": 2249188526804632,
     "dataframes": [
      "_sqldf"
     ]
    },
    "pythonIndentUnit": 4
   },
   "notebookName": "Japanese Cities' Names",
   "widgets": {}
  }
 },
 "nbformat": 4,
 "nbformat_minor": 0
}