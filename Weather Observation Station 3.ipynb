{
 "cells": [
  {
   "cell_type": "markdown",
   "metadata": {
    "application/vnd.databricks.v1+cell": {
     "cellMetadata": {},
     "inputWidgets": {},
     "nuid": "4a37007a-ed09-4088-bc13-e98667df3388",
     "showTitle": false,
     "tableResultSettingsMap": {},
     "title": ""
    }
   },
   "source": [
    "Query a list of CITY names from STATION for cities that have an even ID number. Print the results in any order, but exclude duplicates from the answer.\n",
    "\n",
    "The STATION table is described as follows:\n",
    "\n",
    "\n",
    "![Output](https://s3.amazonaws.com/hr-challenge-images/9336/1449345840-5f0a551030-Station.jpg)\n",
    "where LAT_N is the northern latitude and LONG_W is the western longitude."
   ]
  },
  {
   "cell_type": "code",
   "execution_count": 0,
   "metadata": {
    "application/vnd.databricks.v1+cell": {
     "cellMetadata": {
      "byteLimit": 2048000,
      "rowLimit": 10000
     },
     "inputWidgets": {},
     "nuid": "7989bbe6-b0b8-460d-aade-b8ce16a6a8b3",
     "showTitle": false,
     "tableResultSettingsMap": {},
     "title": ""
    }
   },
   "outputs": [
    {
     "output_type": "stream",
     "name": "stdout",
     "output_type": "stream",
     "text": [
      "+---+-----------+-----+--------+----------+\n| ID|       City|State|   LAT_N|    LONG_W|\n+---+-----------+-----+--------+----------+\n|  1|   New York|   NY| 40.7128|   -74.006|\n|  2|Los Angeles|   CA| 34.0522| -118.2437|\n|  3|    Chicago|   IL| 41.8781|  -87.6298|\n|  4|    Houston|   TX| 29.7604|  -95.3698|\n|  5|    Phoenix|   AZ| 33.4484|  -112.074|\n|  6|San Antonio|   TX| 29.4241|  -98.4936|\n|  7|  San Diego|   CA| 32.7157| -117.1611|\n|  8|     Dallas|   TX| 32.7767|   -96.797|\n|  9|   San Jose|   CA| 37.3382| -121.8863|\n| 10|     Austin|   TX| 30.2672|  -97.7431|\n| 11|    Toronto|   ON|43.65107|-79.347015|\n| 12|     London|  ENG| 51.5074|   -0.1278|\n| 13|  Vancouver|   BC| 49.2827| -123.1207|\n+---+-----------+-----+--------+----------+\n\n"
     ]
    }
   ],
   "source": [
    "from pyspark.sql import SparkSession\n",
    "from pyspark.sql.types import StructType, StructField, IntegerType, StringType, FloatType\n",
    "\n",
    "# Initialize Spark session\n",
    "spark = SparkSession.builder.appName(\"StationTable\").getOrCreate()\n",
    "\n",
    "# Define the schema for the STATION table\n",
    "schema = StructType([\n",
    "    StructField(\"ID\", IntegerType(), True),\n",
    "    StructField(\"City\", StringType(), True),\n",
    "    StructField(\"State\", StringType(), True),\n",
    "    StructField(\"LAT_N\", FloatType(), True),\n",
    "    StructField(\"LONG_W\", FloatType(), True)\n",
    "])\n",
    "\n",
    "# Create the sample data\n",
    "data = [\n",
    "    (1, \"New York\", \"NY\", 40.7128, -74.0060),\n",
    "    (2, \"Los Angeles\", \"CA\", 34.0522, -118.2437),\n",
    "    (3, \"Chicago\", \"IL\", 41.8781, -87.6298),\n",
    "    (4, \"Houston\", \"TX\", 29.7604, -95.3698),\n",
    "    (5, \"Phoenix\", \"AZ\", 33.4484, -112.0740),\n",
    "    (6, \"San Antonio\", \"TX\", 29.4241, -98.4936),\n",
    "    (7, \"San Diego\", \"CA\", 32.7157, -117.1611),\n",
    "    (8, \"Dallas\", \"TX\", 32.7767, -96.7970),\n",
    "    (9, \"San Jose\", \"CA\", 37.3382, -121.8863),\n",
    "    (10, \"Austin\", \"TX\", 30.2672, -97.7431),\n",
    "    (11, \"Toronto\", \"ON\", 43.65107, -79.347015),\n",
    "    (12, \"London\", \"ENG\", 51.5074, -0.1278),\n",
    "    (13, \"Vancouver\", \"BC\", 49.2827, -123.1207)\n",
    "]\n",
    "\n",
    "# Create DataFrame\n",
    "df = spark.createDataFrame(data, schema)\n",
    "\n",
    "# Save the DataFrame as a temporary table\n",
    "df.createOrReplaceTempView(\"STATION\")\n",
    "\n",
    "# Save as a permanent table (uncomment if needed)\n",
    "# df.write.mode(\"overwrite\").saveAsTable(\"STATION\")\n",
    "\n",
    "# Show the DataFrame\n",
    "df.show()\n"
   ]
  },
  {
   "cell_type": "code",
   "execution_count": 0,
   "metadata": {
    "application/vnd.databricks.v1+cell": {
     "cellMetadata": {
      "byteLimit": 2048000,
      "implicitDf": true,
      "rowLimit": 10000
     },
     "inputWidgets": {},
     "nuid": "ad41ac02-b0a5-4896-82c9-b4f4c838181b",
     "showTitle": false,
     "tableResultSettingsMap": {},
     "title": ""
    }
   },
   "outputs": [
    {
     "output_type": "display_data",
     "data": {
      "text/html": [
       "<style scoped>\n",
       "  .table-result-container {\n",
       "    max-height: 300px;\n",
       "    overflow: auto;\n",
       "  }\n",
       "  table, th, td {\n",
       "    border: 1px solid black;\n",
       "    border-collapse: collapse;\n",
       "  }\n",
       "  th, td {\n",
       "    padding: 5px;\n",
       "  }\n",
       "  th {\n",
       "    text-align: left;\n",
       "  }\n",
       "</style><div class='table-result-container'><table class='table-result'><thead style='background-color: white'><tr><th>CITY</th><th>State</th></tr></thead><tbody><tr><td>Los Angeles</td><td>CA</td></tr><tr><td>Houston</td><td>TX</td></tr><tr><td>San Antonio</td><td>TX</td></tr><tr><td>Dallas</td><td>TX</td></tr><tr><td>Austin</td><td>TX</td></tr><tr><td>London</td><td>ENG</td></tr></tbody></table></div>"
      ]
     },
     "metadata": {
      "application/vnd.databricks.v1+output": {
       "addedWidgets": {},
       "aggData": [],
       "aggError": "",
       "aggOverflow": false,
       "aggSchema": [],
       "aggSeriesLimitReached": false,
       "aggType": "",
       "arguments": {},
       "columnCustomDisplayInfos": {},
       "data": [
        [
         "Los Angeles",
         "CA"
        ],
        [
         "Houston",
         "TX"
        ],
        [
         "San Antonio",
         "TX"
        ],
        [
         "Dallas",
         "TX"
        ],
        [
         "Austin",
         "TX"
        ],
        [
         "London",
         "ENG"
        ]
       ],
       "datasetInfos": [],
       "dbfsResultPath": null,
       "isJsonSchema": true,
       "metadata": {},
       "overflow": false,
       "plotOptions": {
        "customPlotOptions": {},
        "displayType": "table",
        "pivotAggregation": null,
        "pivotColumns": null,
        "xColumns": null,
        "yColumns": null
       },
       "removedWidgets": [],
       "schema": [
        {
         "metadata": "{}",
         "name": "CITY",
         "type": "\"string\""
        },
        {
         "metadata": "{}",
         "name": "State",
         "type": "\"string\""
        }
       ],
       "type": "table"
      }
     },
     "output_type": "display_data"
    }
   ],
   "source": [
    "%sql\n",
    "SELECT CITY, State \n",
    "FROM STATION\n",
    "where ID % 2 == 0"
   ]
  },
  {
   "cell_type": "code",
   "execution_count": 0,
   "metadata": {
    "application/vnd.databricks.v1+cell": {
     "cellMetadata": {
      "byteLimit": 2048000,
      "rowLimit": 10000
     },
     "inputWidgets": {},
     "nuid": "d52dd0ab-d68a-4853-89f0-dab703114bdb",
     "showTitle": false,
     "tableResultSettingsMap": {},
     "title": ""
    }
   },
   "outputs": [
    {
     "output_type": "stream",
     "name": "stdout",
     "output_type": "stream",
     "text": [
      "+-----------+-----+\n|       City|State|\n+-----------+-----+\n|Los Angeles|   CA|\n|    Houston|   TX|\n|San Antonio|   TX|\n|     Dallas|   TX|\n|     Austin|   TX|\n|     London|  ENG|\n+-----------+-----+\n\n"
     ]
    }
   ],
   "source": [
    "from pyspark.sql.functions import col\n",
    "\n",
    "df.where(\" ID % 2 == 0\").select(col(\"City\"),col(\"State\")).show()"
   ]
  }
 ],
 "metadata": {
  "application/vnd.databricks.v1+notebook": {
   "computePreferences": null,
   "dashboards": [],
   "environmentMetadata": {
    "base_environment": "",
    "environment_version": "1"
   },
   "inputWidgetPreferences": null,
   "language": "python",
   "notebookMetadata": {
    "mostRecentlyExecutedCommandWithImplicitDF": {
     "commandId": 49191373949606,
     "dataframes": [
      "_sqldf"
     ]
    },
    "pythonIndentUnit": 4
   },
   "notebookName": "Weather Observation Station 3",
   "widgets": {}
  }
 },
 "nbformat": 4,
 "nbformat_minor": 0
}