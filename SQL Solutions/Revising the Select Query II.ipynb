{
 "cells": [
  {
   "cell_type": "markdown",
   "metadata": {
    "application/vnd.databricks.v1+cell": {
     "cellMetadata": {},
     "inputWidgets": {},
     "nuid": "685017b8-471b-4518-bea0-af1cc61c4c15",
     "showTitle": false,
     "tableResultSettingsMap": {},
     "title": ""
    }
   },
   "source": [
    "\n",
    "Query the NAME field for all American cities in the CITY table with populations larger than 120000. The CountryCode for America is USA.\n",
    "\n",
    "The CITY table is described as follows:\n",
    "\n",
    "![Alt Text](https://s3.amazonaws.com/hr-challenge-images/8137/1449729804-f21d187d0f-CITY.jpg)"
   ]
  },
  {
   "cell_type": "code",
   "execution_count": 0,
   "metadata": {
    "application/vnd.databricks.v1+cell": {
     "cellMetadata": {
      "byteLimit": 2048000,
      "rowLimit": 10000
     },
     "inputWidgets": {},
     "nuid": "29e9e011-71f7-47aa-9e1f-6d53e4cfd948",
     "showTitle": false,
     "tableResultSettingsMap": {},
     "title": ""
    }
   },
   "outputs": [
    {
     "output_type": "stream",
     "name": "stdout",
     "output_type": "stream",
     "text": [
      "+---+------------+-----------+------------+----------+\n| ID|        Name|CountryCode|    District|Population|\n+---+------------+-----------+------------+----------+\n|  1|    New York|        USA|    New York|   8400000|\n|  2| Los Angeles|        USA|  California|   4000000|\n|  3|     Chicago|        USA|    Illinois|   2700000|\n|  4|     Houston|        USA|       Texas|   2300000|\n|  5|Philadelphia|        USA|Pennsylvania|   1600000|\n|  6|     Phoenix|        USA|     Arizona|   1500000|\n|  7| San Antonio|        USA|       Texas|   1400000|\n|  8|   San Diego|        USA|  California|   1300000|\n|  9|      Dallas|        USA|       Texas|   1200000|\n| 10|    San Jose|        USA|  California|   1000000|\n| 11|      Austin|        USA|       Texas|    950000|\n| 12|      London|        GBR|     England|   8000000|\n| 13|     Toronto|        CAN|     Ontario|   2800000|\n+---+------------+-----------+------------+----------+\n\n"
     ]
    }
   ],
   "source": [
    "from pyspark.sql import SparkSession\n",
    "from pyspark.sql.types import StructType, StructField, IntegerType, StringType\n",
    "\n",
    "# Initialize Spark session\n",
    "spark = SparkSession.builder.appName(\"CityTable\").getOrCreate()\n",
    "\n",
    "# Define the schema for the CITY table\n",
    "schema = StructType([\n",
    "    StructField(\"ID\", IntegerType(), True),\n",
    "    StructField(\"Name\", StringType(), True),\n",
    "    StructField(\"CountryCode\", StringType(), True),\n",
    "    StructField(\"District\", StringType(), True),\n",
    "    StructField(\"Population\", IntegerType(), True)\n",
    "])\n",
    "\n",
    "# Create the sample data\n",
    "data = [\n",
    "    (1, \"New York\", \"USA\", \"New York\", 8400000),\n",
    "    (2, \"Los Angeles\", \"USA\", \"California\", 4000000),\n",
    "    (3, \"Chicago\", \"USA\", \"Illinois\", 2700000),\n",
    "    (4, \"Houston\", \"USA\", \"Texas\", 2300000),\n",
    "    (5, \"Philadelphia\", \"USA\", \"Pennsylvania\", 1600000),\n",
    "    (6, \"Phoenix\", \"USA\", \"Arizona\", 1500000),\n",
    "    (7, \"San Antonio\", \"USA\", \"Texas\", 1400000),\n",
    "    (8, \"San Diego\", \"USA\", \"California\", 1300000),\n",
    "    (9, \"Dallas\", \"USA\", \"Texas\", 1200000),\n",
    "    (10, \"San Jose\", \"USA\", \"California\", 1000000),\n",
    "    (11, \"Austin\", \"USA\", \"Texas\", 950000),\n",
    "    (12, \"London\", \"GBR\", \"England\", 8000000),\n",
    "    (13, \"Toronto\", \"CAN\", \"Ontario\", 2800000)\n",
    "]\n",
    "\n",
    "# Create DataFrame\n",
    "df = spark.createDataFrame(data, schema)\n",
    "\n",
    "# Save the DataFrame as a temporary table\n",
    "df.createOrReplaceTempView(\"CITY\")\n",
    "\n",
    "# Save as a permanent table (uncomment if needed)\n",
    "# df.write.mode(\"overwrite\").saveAsTable(\"CITY\")\n",
    "\n",
    "# Show the DataFrame\n",
    "df.show()\n"
   ]
  },
  {
   "cell_type": "code",
   "execution_count": 0,
   "metadata": {
    "application/vnd.databricks.v1+cell": {
     "cellMetadata": {
      "byteLimit": 2048000,
      "implicitDf": true,
      "rowLimit": 10000
     },
     "inputWidgets": {},
     "nuid": "f7c1b9b6-210a-4e76-b0a1-f8f9e305f41a",
     "showTitle": false,
     "tableResultSettingsMap": {},
     "title": ""
    }
   },
   "outputs": [
    {
     "output_type": "display_data",
     "data": {
      "text/html": [
       "<style scoped>\n",
       "  .table-result-container {\n",
       "    max-height: 300px;\n",
       "    overflow: auto;\n",
       "  }\n",
       "  table, th, td {\n",
       "    border: 1px solid black;\n",
       "    border-collapse: collapse;\n",
       "  }\n",
       "  th, td {\n",
       "    padding: 5px;\n",
       "  }\n",
       "  th {\n",
       "    text-align: left;\n",
       "  }\n",
       "</style><div class='table-result-container'><table class='table-result'><thead style='background-color: white'><tr><th>Name</th></tr></thead><tbody><tr><td>New York</td></tr><tr><td>Los Angeles</td></tr><tr><td>Chicago</td></tr><tr><td>Houston</td></tr><tr><td>Philadelphia</td></tr><tr><td>Phoenix</td></tr><tr><td>San Antonio</td></tr><tr><td>San Diego</td></tr><tr><td>Dallas</td></tr><tr><td>San Jose</td></tr><tr><td>Austin</td></tr></tbody></table></div>"
      ]
     },
     "metadata": {
      "application/vnd.databricks.v1+output": {
       "addedWidgets": {},
       "aggData": [],
       "aggError": "",
       "aggOverflow": false,
       "aggSchema": [],
       "aggSeriesLimitReached": false,
       "aggType": "",
       "arguments": {},
       "columnCustomDisplayInfos": {},
       "data": [
        [
         "New York"
        ],
        [
         "Los Angeles"
        ],
        [
         "Chicago"
        ],
        [
         "Houston"
        ],
        [
         "Philadelphia"
        ],
        [
         "Phoenix"
        ],
        [
         "San Antonio"
        ],
        [
         "San Diego"
        ],
        [
         "Dallas"
        ],
        [
         "San Jose"
        ],
        [
         "Austin"
        ]
       ],
       "datasetInfos": [],
       "dbfsResultPath": null,
       "isJsonSchema": true,
       "metadata": {},
       "overflow": false,
       "plotOptions": {
        "customPlotOptions": {},
        "displayType": "table",
        "pivotAggregation": null,
        "pivotColumns": null,
        "xColumns": null,
        "yColumns": null
       },
       "removedWidgets": [],
       "schema": [
        {
         "metadata": "{}",
         "name": "Name",
         "type": "\"string\""
        }
       ],
       "type": "table"
      }
     },
     "output_type": "display_data"
    }
   ],
   "source": [
    "%sql\n",
    "SELECT Name\n",
    "FROM CITY\n",
    "WHERE CountryCode = \"USA\" and Population > 120000"
   ]
  },
  {
   "cell_type": "code",
   "execution_count": 0,
   "metadata": {
    "application/vnd.databricks.v1+cell": {
     "cellMetadata": {
      "byteLimit": 2048000,
      "rowLimit": 10000
     },
     "inputWidgets": {},
     "nuid": "6c19f40b-bc5d-480d-ac5b-0decc212e44f",
     "showTitle": false,
     "tableResultSettingsMap": {},
     "title": ""
    }
   },
   "outputs": [
    {
     "output_type": "stream",
     "name": "stdout",
     "output_type": "stream",
     "text": [
      "+------------+\n|        Name|\n+------------+\n|    New York|\n| Los Angeles|\n|     Chicago|\n|     Houston|\n|Philadelphia|\n|     Phoenix|\n| San Antonio|\n|   San Diego|\n|      Dallas|\n|    San Jose|\n|      Austin|\n+------------+\n\n"
     ]
    }
   ],
   "source": [
    "result  = df.filter(\"CountryCode = 'USA' and Population > 120000\").select('Name')\n",
    "result.show()"
   ]
  }
 ],
 "metadata": {
  "application/vnd.databricks.v1+notebook": {
   "computePreferences": null,
   "dashboards": [],
   "environmentMetadata": {
    "base_environment": "",
    "environment_version": "1"
   },
   "inputWidgetPreferences": null,
   "language": "python",
   "notebookMetadata": {
    "mostRecentlyExecutedCommandWithImplicitDF": {
     "commandId": 49191373949600,
     "dataframes": [
      "_sqldf"
     ]
    },
    "pythonIndentUnit": 4
   },
   "notebookName": "Revising the Select Query II",
   "widgets": {}
  }
 },
 "nbformat": 4,
 "nbformat_minor": 0
}