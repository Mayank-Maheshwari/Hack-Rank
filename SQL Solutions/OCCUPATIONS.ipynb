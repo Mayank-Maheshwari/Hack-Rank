{
 "cells": [
  {
   "cell_type": "markdown",
   "metadata": {
    "application/vnd.databricks.v1+cell": {
     "cellMetadata": {
      "byteLimit": 2048000,
      "rowLimit": 10000
     },
     "inputWidgets": {},
     "nuid": "d061c16a-537b-4b59-ad79-8e0d6cd80fd0",
     "showTitle": false,
     "tableResultSettingsMap": {},
     "title": ""
    }
   },
   "source": [
    "Pivot the Occupation column in OCCUPATIONS so that each Name is sorted alphabetically and displayed underneath its corresponding Occupation. The output should consist of four columns (Doctor, Professor, Singer, and Actor) in that specific order, with their respective names listed alphabetically under each column.\n",
    "\n",
    "Note: Print NULL when there are no more names corresponding to an occupation.\n",
    "\n",
    "Input Format\n",
    "\n",
    "![Output](https://s3.amazonaws.com/hr-challenge-images/12889/1443816414-2a465532e7-1.png)\n",
    "\n",
    "\n",
    "The OCCUPATIONS table is described as follows:\n",
    "\n",
    "\n",
    "\n",
    "Occupation will only contain one of the following values: Doctor, Professor, Singer or Actor.\n",
    "\n",
    "Sample Input\n",
    "\n",
    "![Output](https://s3.amazonaws.com/hr-challenge-images/12890/1443817648-1b2b8add45-2.png)\n",
    "\n",
    "\n",
    "Sample Output\n",
    "\n",
    "Jenny    Ashley     Meera  Jane\n",
    "Samantha Christeen  Priya  Julia\n",
    "NULL     Ketty      NULL   Maria\n",
    "Explanation\n",
    "\n",
    "The first column is an alphabetically ordered list of Doctor names.\n",
    "The second column is an alphabetically ordered list of Professor names.\n",
    "The third column is an alphabetically ordered list of Singer names.\n",
    "The fourth column is an alphabetically ordered list of Actor names.\n",
    "The empty cell data for columns with less than the maximum number of names per occupation (in this case, the Professor and Actor columns) are filled with NULL values."
   ]
  },
  {
   "cell_type": "code",
   "execution_count": 0,
   "metadata": {
    "application/vnd.databricks.v1+cell": {
     "cellMetadata": {
      "byteLimit": 2048000,
      "rowLimit": 10000
     },
     "inputWidgets": {},
     "nuid": "1aefa723-7cbd-47a4-aaeb-3baaa0f7587a",
     "showTitle": false,
     "tableResultSettingsMap": {},
     "title": ""
    }
   },
   "outputs": [],
   "source": [
    "from pyspark.sql import SparkSession\n",
    "from pyspark.sql.types import StructType, StructField, StringType\n",
    "\n",
    "# Initialize Spark session\n",
    "spark = SparkSession.builder.appName(\"Occupations\").getOrCreate()\n",
    "\n",
    "# Define schema\n",
    "schema = StructType([\n",
    "    StructField(\"Name\", StringType(), True),\n",
    "    StructField(\"Occupation\", StringType(), True)\n",
    "])\n",
    "\n",
    "# Sample Data\n",
    "data = [\n",
    "    (\"Jenny\", \"Doctor\"),\n",
    "    (\"Samantha\", \"Doctor\"),\n",
    "    (\"Ashley\", \"Professor\"),\n",
    "    (\"Christeen\", \"Professor\"),\n",
    "    (\"Ketty\", \"Professor\"),\n",
    "    (\"Meera\", \"Singer\"),\n",
    "    (\"Priya\", \"Singer\"),\n",
    "    (\"Jane\", \"Actor\"),\n",
    "    (\"Julia\", \"Actor\"),\n",
    "    (\"Maria\", \"Actor\")\n",
    "]\n",
    "\n",
    "# Create DataFrame\n",
    "df = spark.createDataFrame(data, schema=schema)\n",
    "\n",
    "# Save DataFrame as a temporary table\n",
    "df.createOrReplaceTempView(\"OCCUPATIONS\")\n"
   ]
  },
  {
   "cell_type": "code",
   "execution_count": 0,
   "metadata": {
    "application/vnd.databricks.v1+cell": {
     "cellMetadata": {
      "byteLimit": 2048000,
      "implicitDf": true,
      "rowLimit": 10000
     },
     "inputWidgets": {},
     "nuid": "756210bc-d449-4cca-a5f3-34d9f80f16c5",
     "showTitle": false,
     "tableResultSettingsMap": {},
     "title": ""
    }
   },
   "outputs": [
    {
     "output_type": "display_data",
     "data": {
      "text/html": [
       "<style scoped>\n",
       "  .table-result-container {\n",
       "    max-height: 300px;\n",
       "    overflow: auto;\n",
       "  }\n",
       "  table, th, td {\n",
       "    border: 1px solid black;\n",
       "    border-collapse: collapse;\n",
       "  }\n",
       "  th, td {\n",
       "    padding: 5px;\n",
       "  }\n",
       "  th {\n",
       "    text-align: left;\n",
       "  }\n",
       "</style><div class='table-result-container'><table class='table-result'><thead style='background-color: white'><tr><th>Doctor</th><th>Professor</th><th>Singer</th><th>Actor</th></tr></thead><tbody><tr><td>Jenny</td><td>Ashley</td><td>Meera</td><td>Jane</td></tr><tr><td>Samantha</td><td>Christeen</td><td>Priya</td><td>Julia</td></tr><tr><td>null</td><td>Ketty</td><td>null</td><td>Maria</td></tr></tbody></table></div>"
      ]
     },
     "metadata": {
      "application/vnd.databricks.v1+output": {
       "addedWidgets": {},
       "aggData": [],
       "aggError": "",
       "aggOverflow": false,
       "aggSchema": [],
       "aggSeriesLimitReached": false,
       "aggType": "",
       "arguments": {},
       "columnCustomDisplayInfos": {},
       "data": [
        [
         "Jenny",
         "Ashley",
         "Meera",
         "Jane"
        ],
        [
         "Samantha",
         "Christeen",
         "Priya",
         "Julia"
        ],
        [
         null,
         "Ketty",
         null,
         "Maria"
        ]
       ],
       "datasetInfos": [],
       "dbfsResultPath": null,
       "isJsonSchema": true,
       "metadata": {},
       "overflow": false,
       "plotOptions": {
        "customPlotOptions": {},
        "displayType": "table",
        "pivotAggregation": null,
        "pivotColumns": null,
        "xColumns": null,
        "yColumns": null
       },
       "removedWidgets": [],
       "schema": [
        {
         "metadata": "{}",
         "name": "Doctor",
         "type": "\"string\""
        },
        {
         "metadata": "{}",
         "name": "Professor",
         "type": "\"string\""
        },
        {
         "metadata": "{}",
         "name": "Singer",
         "type": "\"string\""
        },
        {
         "metadata": "{}",
         "name": "Actor",
         "type": "\"string\""
        }
       ],
       "type": "table"
      }
     },
     "output_type": "display_data"
    }
   ],
   "source": [
    "%sql\n",
    "WITH CTE\n",
    "AS (\n",
    "    SELECT *, row_number() over(PARTITION BY Occupation ORDER BY Name ASC) AS R\n",
    "    FROM OCCUPATIONS)\n",
    "SELECT Doctor, Professor, Singer, Actor\n",
    "FROM CTE\n",
    "PIVOT (\n",
    "MAX(Name)\n",
    "    FOR Occupation IN (\"Doctor\", \"Professor\",\"Actor\",\"Singer\")\n",
    ")"
   ]
  },
  {
   "cell_type": "code",
   "execution_count": 0,
   "metadata": {
    "application/vnd.databricks.v1+cell": {
     "cellMetadata": {
      "byteLimit": 2048000,
      "implicitDf": true,
      "rowLimit": 10000
     },
     "inputWidgets": {},
     "nuid": "4cdd96da-0332-48ee-b3b0-da4b77c681e4",
     "showTitle": false,
     "tableResultSettingsMap": {},
     "title": ""
    }
   },
   "outputs": [
    {
     "output_type": "stream",
     "name": "stdout",
     "output_type": "stream",
     "text": [
      "+----------+-----+--------+---------+------+\n|row_number|Actor|  Doctor|Professor|Singer|\n+----------+-----+--------+---------+------+\n|         1| Jane|   Jenny|   Ashley| Meera|\n|         2|Julia|Samantha|Christeen| Priya|\n|         3|Maria|    null|    Ketty|  null|\n+----------+-----+--------+---------+------+\n\n"
     ]
    }
   ],
   "source": [
    "from pyspark.sql import Window\n",
    "from pyspark.sql.functions import *\n",
    "\n",
    "windowSpec = Window.partitionBy(\"Occupation\").orderBy(\"Name\")\n",
    "\n",
    "df_1 =  df.withColumn(\"row_number\", row_number().over(windowSpec))\n",
    "\n",
    "df_pivot = df_1.groupBy(\"row_number\").pivot(\"Occupation\").agg(first(\"Name\"))\n",
    "\n",
    "df_pivot.show()\n"
   ]
  }
 ],
 "metadata": {
  "application/vnd.databricks.v1+notebook": {
   "computePreferences": null,
   "dashboards": [],
   "environmentMetadata": {
    "base_environment": "",
    "environment_version": "1"
   },
   "inputWidgetPreferences": null,
   "language": "python",
   "notebookMetadata": {
    "mostRecentlyExecutedCommandWithImplicitDF": {
     "commandId": 928057709462298,
     "dataframes": [
      "_sqldf"
     ]
    },
    "pythonIndentUnit": 4
   },
   "notebookName": "OCCUPATIONS",
   "widgets": {}
  }
 },
 "nbformat": 4,
 "nbformat_minor": 0
}