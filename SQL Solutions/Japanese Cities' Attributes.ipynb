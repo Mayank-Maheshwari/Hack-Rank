{
 "cells": [
  {
   "cell_type": "markdown",
   "metadata": {
    "application/vnd.databricks.v1+cell": {
     "cellMetadata": {
      "byteLimit": 2048000,
      "rowLimit": 10000
     },
     "inputWidgets": {},
     "nuid": "86752bb7-ac62-4e64-b8c6-b226bc5994ba",
     "showTitle": false,
     "tableResultSettingsMap": {},
     "title": ""
    }
   },
   "source": [
    "Query all attributes of every Japanese city in the CITY table. The COUNTRYCODE for Japan is JPN.\n",
    "\n",
    "The CITY table is described as follows:\n",
    "\n",
    "![Output](https://s3.amazonaws.com/hr-challenge-images/8137/1449729804-f21d187d0f-CITY.jpg)"
   ]
  },
  {
   "cell_type": "code",
   "execution_count": 0,
   "metadata": {
    "application/vnd.databricks.v1+cell": {
     "cellMetadata": {
      "byteLimit": 2048000,
      "rowLimit": 10000
     },
     "inputWidgets": {},
     "nuid": "4710b67a-f0a2-44f7-90aa-e517e0ff2076",
     "showTitle": false,
     "tableResultSettingsMap": {},
     "title": ""
    }
   },
   "outputs": [],
   "source": [
    "from pyspark.sql import SparkSession\n",
    "\n",
    "# Start Spark session\n",
    "spark = SparkSession.builder \\\n",
    "    .appName(\"Japanese Cities Query\") \\\n",
    "    .getOrCreate()\n",
    "\n",
    "# Sample data including Japanese cities\n",
    "city_data = [\n",
    "    (1, \"Tokyo\", \"JPN\", \"Tokyo-to\", 13350000),\n",
    "    (2, \"Osaka\", \"JPN\", \"Osaka\", 2691000),\n",
    "    (3, \"Kyoto\", \"JPN\", \"Kyoto\", 1475000),\n",
    "    (4, \"Nagoya\", \"JPN\", \"Aichi\", 2296000),\n",
    "    (5, \"New York\", \"USA\", \"New York\", 8008278),\n",
    "    (6, \"London\", \"GBR\", \"England\", 8788000)\n",
    "]\n",
    "\n",
    "columns = [\"ID\", \"NAME\", \"COUNTRYCODE\", \"DISTRICT\", \"POPULATION\"]\n",
    "\n",
    "# Create DataFrame\n",
    "city_df = spark.createDataFrame(city_data, columns)\n",
    "\n",
    "# Register as a temporary table\n",
    "city_df.createOrReplaceTempView(\"CITY\")\n"
   ]
  },
  {
   "cell_type": "code",
   "execution_count": 0,
   "metadata": {
    "application/vnd.databricks.v1+cell": {
     "cellMetadata": {
      "byteLimit": 2048000,
      "implicitDf": true,
      "rowLimit": 10000
     },
     "inputWidgets": {},
     "nuid": "a56ce6a2-1416-44f7-9cd3-3293c642308b",
     "showTitle": false,
     "tableResultSettingsMap": {},
     "title": ""
    }
   },
   "outputs": [
    {
     "output_type": "display_data",
     "data": {
      "text/html": [
       "<style scoped>\n",
       "  .table-result-container {\n",
       "    max-height: 300px;\n",
       "    overflow: auto;\n",
       "  }\n",
       "  table, th, td {\n",
       "    border: 1px solid black;\n",
       "    border-collapse: collapse;\n",
       "  }\n",
       "  th, td {\n",
       "    padding: 5px;\n",
       "  }\n",
       "  th {\n",
       "    text-align: left;\n",
       "  }\n",
       "</style><div class='table-result-container'><table class='table-result'><thead style='background-color: white'><tr><th>ID</th><th>NAME</th><th>COUNTRYCODE</th><th>DISTRICT</th><th>POPULATION</th></tr></thead><tbody><tr><td>1</td><td>Tokyo</td><td>JPN</td><td>Tokyo-to</td><td>13350000</td></tr><tr><td>2</td><td>Osaka</td><td>JPN</td><td>Osaka</td><td>2691000</td></tr><tr><td>3</td><td>Kyoto</td><td>JPN</td><td>Kyoto</td><td>1475000</td></tr><tr><td>4</td><td>Nagoya</td><td>JPN</td><td>Aichi</td><td>2296000</td></tr></tbody></table></div>"
      ]
     },
     "metadata": {
      "application/vnd.databricks.v1+output": {
       "addedWidgets": {},
       "aggData": [],
       "aggError": "",
       "aggOverflow": false,
       "aggSchema": [],
       "aggSeriesLimitReached": false,
       "aggType": "",
       "arguments": {},
       "columnCustomDisplayInfos": {},
       "data": [
        [
         1,
         "Tokyo",
         "JPN",
         "Tokyo-to",
         13350000
        ],
        [
         2,
         "Osaka",
         "JPN",
         "Osaka",
         2691000
        ],
        [
         3,
         "Kyoto",
         "JPN",
         "Kyoto",
         1475000
        ],
        [
         4,
         "Nagoya",
         "JPN",
         "Aichi",
         2296000
        ]
       ],
       "datasetInfos": [],
       "dbfsResultPath": null,
       "isJsonSchema": true,
       "metadata": {},
       "overflow": false,
       "plotOptions": {
        "customPlotOptions": {},
        "displayType": "table",
        "pivotAggregation": null,
        "pivotColumns": null,
        "xColumns": null,
        "yColumns": null
       },
       "removedWidgets": [],
       "schema": [
        {
         "metadata": "{}",
         "name": "ID",
         "type": "\"long\""
        },
        {
         "metadata": "{}",
         "name": "NAME",
         "type": "\"string\""
        },
        {
         "metadata": "{}",
         "name": "COUNTRYCODE",
         "type": "\"string\""
        },
        {
         "metadata": "{}",
         "name": "DISTRICT",
         "type": "\"string\""
        },
        {
         "metadata": "{}",
         "name": "POPULATION",
         "type": "\"long\""
        }
       ],
       "type": "table"
      }
     },
     "output_type": "display_data"
    }
   ],
   "source": [
    "%sql\n",
    "SELECT *\n",
    "FROM CITY\n",
    "WHERE COUNTRYCODE = \"JPN\""
   ]
  },
  {
   "cell_type": "code",
   "execution_count": 0,
   "metadata": {
    "application/vnd.databricks.v1+cell": {
     "cellMetadata": {
      "byteLimit": 2048000,
      "rowLimit": 10000
     },
     "inputWidgets": {},
     "nuid": "1f02e4f3-e438-43dd-b62d-f1e0814fea7a",
     "showTitle": false,
     "tableResultSettingsMap": {},
     "title": ""
    }
   },
   "outputs": [
    {
     "output_type": "stream",
     "name": "stdout",
     "output_type": "stream",
     "text": [
      "+---+------+-----------+--------+----------+\n| ID|  NAME|COUNTRYCODE|DISTRICT|POPULATION|\n+---+------+-----------+--------+----------+\n|  1| Tokyo|        JPN|Tokyo-to|  13350000|\n|  2| Osaka|        JPN|   Osaka|   2691000|\n|  3| Kyoto|        JPN|   Kyoto|   1475000|\n|  4|Nagoya|        JPN|   Aichi|   2296000|\n+---+------+-----------+--------+----------+\n\n"
     ]
    }
   ],
   "source": [
    "from pyspark.sql.functions import col\n",
    "\n",
    "city_df.where(\"COUNTRYCODE == 'JPN'\").show()\n",
    "\n"
   ]
  },
  {
   "cell_type": "code",
   "execution_count": 0,
   "metadata": {
    "application/vnd.databricks.v1+cell": {
     "cellMetadata": {
      "byteLimit": 2048000,
      "rowLimit": 10000
     },
     "inputWidgets": {},
     "nuid": "857ab29e-1993-4961-b90b-fa295b54b0c8",
     "showTitle": false,
     "tableResultSettingsMap": {},
     "title": ""
    }
   },
   "outputs": [
    {
     "output_type": "stream",
     "name": "stdout",
     "output_type": "stream",
     "text": [
      "+---+------+-----------+--------+----------+\n| ID|  Name|CountryCode|District|Population|\n+---+------+-----------+--------+----------+\n|  1| Tokyo|        JPN|Tokyo-to|  13350000|\n|  2| Osaka|        JPN|   Osaka|   2691000|\n|  3| Kyoto|        JPN|   Kyoto|   1475000|\n|  4|Nagoya|        JPN|   Aichi|   2296000|\n+---+------+-----------+--------+----------+\n\n"
     ]
    }
   ],
   "source": [
    "city_df.filter(\"COUNTRYCODE == 'JPN'\").select(\"ID\", \"Name\", \"CountryCode\", \"District\", \"Population\").show()"
   ]
  }
 ],
 "metadata": {
  "application/vnd.databricks.v1+notebook": {
   "computePreferences": null,
   "dashboards": [],
   "environmentMetadata": {
    "base_environment": "",
    "environment_version": "1"
   },
   "inputWidgetPreferences": null,
   "language": "python",
   "notebookMetadata": {
    "mostRecentlyExecutedCommandWithImplicitDF": {
     "commandId": 2249188526804617,
     "dataframes": [
      "_sqldf"
     ]
    },
    "pythonIndentUnit": 4
   },
   "notebookName": "Japanese Cities' Attributes",
   "widgets": {}
  }
 },
 "nbformat": 4,
 "nbformat_minor": 0
}