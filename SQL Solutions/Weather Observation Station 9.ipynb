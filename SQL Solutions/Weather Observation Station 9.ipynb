{
 "cells": [
  {
   "cell_type": "markdown",
   "metadata": {
    "application/vnd.databricks.v1+cell": {
     "cellMetadata": {
      "byteLimit": 2048000,
      "rowLimit": 10000
     },
     "inputWidgets": {},
     "nuid": "4a37007a-ed09-4088-bc13-e98667df3388",
     "showTitle": false,
     "tableResultSettingsMap": {},
     "title": ""
    }
   },
   "source": [
    "Query the list of CITY names from STATION that do not start with vowels. Your result cannot contain duplicates.\n",
    "\n",
    "Input Format\n",
    "\n",
    "The STATION table is described as follows:\n",
    "\n",
    "\n",
    "![Output](https://s3.amazonaws.com/hr-challenge-images/9336/1449345840-5f0a551030-Station.jpg)\n",
    "\n",
    "\n",
    "where LAT_N is the northern latitude and LONG_W is the western longitude."
   ]
  },
  {
   "cell_type": "code",
   "execution_count": 0,
   "metadata": {
    "application/vnd.databricks.v1+cell": {
     "cellMetadata": {
      "byteLimit": 2048000,
      "rowLimit": 10000
     },
     "inputWidgets": {},
     "nuid": "7989bbe6-b0b8-460d-aade-b8ce16a6a8b3",
     "showTitle": false,
     "tableResultSettingsMap": {},
     "title": ""
    }
   },
   "outputs": [
    {
     "output_type": "stream",
     "name": "stdout",
     "output_type": "stream",
     "text": [
      "+---+-----------+------+-----+------+\n| ID|       City| State|LAT_N|LONG_W|\n+---+-----------+------+-----+------+\n|  1|       Oslo|OSL001|59.91| 10.75|\n|  2|    Udaipur|UDA001|24.58| 73.68|\n|  3|  Amsterdam|AMS001|52.37|  4.89|\n|  4|    Orlando|ORL001|28.54| 81.38|\n|  5|     Indore|IND001|22.72| 75.86|\n|  6|  Ahmedabad|AHM001|23.03| 72.58|\n|  7|       Erie|ERI001|42.12| 80.09|\n|  8|     Eugene|EUG001|44.05|123.09|\n|  9|       Agra|AGR001|27.18| 78.01|\n| 10|Albuquerque|ALB001|35.08|106.65|\n| 11|     Zurich|ZUR001|47.37|  8.55|\n+---+-----------+------+-----+------+\n\n"
     ]
    }
   ],
   "source": [
    "from pyspark.sql import SparkSession\n",
    "from pyspark.sql.types import StructType, StructField, IntegerType, StringType, FloatType\n",
    "\n",
    "# Initialize Spark session\n",
    "spark = SparkSession.builder.appName(\"StationTable\").getOrCreate()\n",
    "\n",
    "# Define the schema for the STATION table\n",
    "schema = StructType([\n",
    "    StructField(\"ID\", IntegerType(), True),\n",
    "    StructField(\"City\", StringType(), True),\n",
    "    StructField(\"State\", StringType(), True),\n",
    "    StructField(\"LAT_N\", FloatType(), True),\n",
    "    StructField(\"LONG_W\", FloatType(), True)\n",
    "])\n",
    "\n",
    "# Create the sample data\n",
    "data = [\n",
    "    (1, \"Oslo\", \"OSL001\", 59.91, 10.75),\n",
    "    (2, \"Udaipur\", \"UDA001\", 24.58, 73.68),\n",
    "    (3, \"Amsterdam\", \"AMS001\", 52.37, 4.89),\n",
    "    (4, \"Orlando\", \"ORL001\", 28.54, 81.38),\n",
    "    (5, \"Indore\", \"IND001\", 22.72, 75.86),\n",
    "    (6, \"Ahmedabad\", \"AHM001\", 23.03, 72.58),\n",
    "    (7, \"Erie\", \"ERI001\", 42.12, 80.09),\n",
    "    (8, \"Eugene\", \"EUG001\", 44.05, 123.09),\n",
    "    (9, \"Agra\", \"AGR001\", 27.18, 78.01),\n",
    "    (10, \"Albuquerque\", \"ALB001\", 35.08, 106.65),\n",
    "    (11, \"Zurich\", \"ZUR001\", 47.37, 8.55)\n",
    "]\n",
    "\n",
    "# Create DataFrame\n",
    "df = spark.createDataFrame(data, schema)\n",
    "\n",
    "# Save the DataFrame as a temporary table\n",
    "df.createOrReplaceTempView(\"STATION\")\n",
    "\n",
    "# Save as a permanent table (uncomment if needed)\n",
    "# df.write.mode(\"overwrite\").saveAsTable(\"STATION\")\n",
    "\n",
    "# Show the DataFrame\n",
    "df.show()\n"
   ]
  },
  {
   "cell_type": "code",
   "execution_count": 0,
   "metadata": {
    "application/vnd.databricks.v1+cell": {
     "cellMetadata": {
      "byteLimit": 2048000,
      "implicitDf": true,
      "rowLimit": 10000
     },
     "inputWidgets": {},
     "nuid": "ad41ac02-b0a5-4896-82c9-b4f4c838181b",
     "showTitle": false,
     "tableResultSettingsMap": {},
     "title": ""
    }
   },
   "outputs": [
    {
     "output_type": "display_data",
     "data": {
      "text/html": [
       "<style scoped>\n",
       "  .table-result-container {\n",
       "    max-height: 300px;\n",
       "    overflow: auto;\n",
       "  }\n",
       "  table, th, td {\n",
       "    border: 1px solid black;\n",
       "    border-collapse: collapse;\n",
       "  }\n",
       "  th, td {\n",
       "    padding: 5px;\n",
       "  }\n",
       "  th {\n",
       "    text-align: left;\n",
       "  }\n",
       "</style><div class='table-result-container'><table class='table-result'><thead style='background-color: white'><tr><th>CITY</th></tr></thead><tbody><tr><td>Zurich</td></tr></tbody></table></div>"
      ]
     },
     "metadata": {
      "application/vnd.databricks.v1+output": {
       "addedWidgets": {},
       "aggData": [],
       "aggError": "",
       "aggOverflow": false,
       "aggSchema": [],
       "aggSeriesLimitReached": false,
       "aggType": "",
       "arguments": {},
       "columnCustomDisplayInfos": {},
       "data": [
        [
         "Zurich"
        ]
       ],
       "datasetInfos": [],
       "dbfsResultPath": null,
       "isJsonSchema": true,
       "metadata": {},
       "overflow": false,
       "plotOptions": {
        "customPlotOptions": {},
        "displayType": "table",
        "pivotAggregation": null,
        "pivotColumns": null,
        "xColumns": null,
        "yColumns": null
       },
       "removedWidgets": [],
       "schema": [
        {
         "metadata": "{}",
         "name": "CITY",
         "type": "\"string\""
        }
       ],
       "type": "table"
      }
     },
     "output_type": "display_data"
    }
   ],
   "source": [
    "%sql\n",
    "\n",
    "SELECT DISTINCT CITY\n",
    "FROM Station\n",
    "WHERE LOWER(LEFT(City,1)) not in ('a','e','i','o','u') "
   ]
  },
  {
   "cell_type": "code",
   "execution_count": 0,
   "metadata": {
    "application/vnd.databricks.v1+cell": {
     "cellMetadata": {
      "byteLimit": 2048000,
      "rowLimit": 10000
     },
     "inputWidgets": {},
     "nuid": "d52dd0ab-d68a-4853-89f0-dab703114bdb",
     "showTitle": false,
     "tableResultSettingsMap": {},
     "title": ""
    }
   },
   "outputs": [
    {
     "output_type": "stream",
     "name": "stdout",
     "output_type": "stream",
     "text": [
      "+------+\n|  City|\n+------+\n|Zurich|\n+------+\n\n"
     ]
    }
   ],
   "source": [
    "from pyspark.sql.functions import col, substring, lower\n",
    "\n",
    "result = df.withColumn(\"first_letter\",lower(substring(df.City,1,1)))\n",
    "result = result.where(\"first_letter not in ('a','e','i','o','u')\")\n",
    "\n",
    "result.distinct().select('City').distinct().show()"
   ]
  }
 ],
 "metadata": {
  "application/vnd.databricks.v1+notebook": {
   "computePreferences": null,
   "dashboards": [],
   "environmentMetadata": {
    "base_environment": "",
    "environment_version": "1"
   },
   "inputWidgetPreferences": null,
   "language": "python",
   "notebookMetadata": {
    "mostRecentlyExecutedCommandWithImplicitDF": {
     "commandId": 2249188526804652,
     "dataframes": [
      "_sqldf"
     ]
    },
    "pythonIndentUnit": 4
   },
   "notebookName": "Weather Observation Station 9",
   "widgets": {}
  }
 },
 "nbformat": 4,
 "nbformat_minor": 0
}