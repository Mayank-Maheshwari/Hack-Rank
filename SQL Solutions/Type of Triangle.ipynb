{
 "cells": [
  {
   "cell_type": "markdown",
   "metadata": {
    "application/vnd.databricks.v1+cell": {
     "cellMetadata": {
      "byteLimit": 2048000,
      "rowLimit": 10000
     },
     "inputWidgets": {},
     "nuid": "a5ea7d8c-682b-4185-ad43-a7e834d3f62b",
     "showTitle": false,
     "tableResultSettingsMap": {},
     "title": ""
    }
   },
   "source": [
    "Write a query identifying the type of each record in the TRIANGLES table using its three side lengths. Output one of the following statements for each record in the table:\n",
    "\n",
    "Equilateral: It's a triangle with  sides of equal length.\n",
    "Isosceles: It's a triangle with  sides of equal length.\n",
    "Scalene: It's a triangle with  sides of differing lengths.\n",
    "Not A Triangle: The given values of A, B, and C don't form a triangle.\n",
    "Input Format\n",
    "\n",
    "The TRIANGLES table is described as follows:\n",
    "\n",
    "![Output](https://s3.amazonaws.com/hr-challenge-images/12887/1443815629-ac2a843fb7-1.png)\n",
    "\n",
    "\n",
    "Each row in the table denotes the lengths of each of a triangle's three sides.\n",
    "\n",
    "Sample Input\n",
    "\n",
    "![Output](https://s3.amazonaws.com/hr-challenge-images/12887/1443815827-cbfc1ca12b-2.png)\n",
    "\n",
    "\n",
    "Sample Output\n",
    "\n",
    "Isosceles\n",
    "Equilateral\n",
    "Scalene\n",
    "Not A Triangle\n",
    "Explanation\n",
    "\n",
    "Values in the tuple  form an Isosceles triangle, because .\n",
    "Values in the tuple  form an Equilateral triangle, because . Values in the tuple  form a Scalene triangle, because .\n",
    "Values in the tuple  cannot form a triangle because the combined value of sides  and  is not larger than that of side ."
   ]
  },
  {
   "cell_type": "code",
   "execution_count": 0,
   "metadata": {
    "application/vnd.databricks.v1+cell": {
     "cellMetadata": {
      "byteLimit": 2048000,
      "rowLimit": 10000
     },
     "inputWidgets": {},
     "nuid": "ea7e19b0-83e0-47db-9fc4-90804003c78e",
     "showTitle": false,
     "tableResultSettingsMap": {},
     "title": ""
    }
   },
   "outputs": [],
   "source": [
    "from pyspark.sql import SparkSession\n",
    "from pyspark.sql.types import StructType, StructField, IntegerType\n",
    "\n",
    "# Initialize Spark session\n",
    "spark = SparkSession.builder.appName(\"Triangles\").getOrCreate()\n",
    "\n",
    "# Define schema for TRIANGLES table\n",
    "schema = StructType([\n",
    "    StructField(\"A\", IntegerType(), True),\n",
    "    StructField(\"B\", IntegerType(), True),\n",
    "    StructField(\"C\", IntegerType(), True)\n",
    "])\n",
    "\n",
    "# Create DataFrame with sample triangle side lengths\n",
    "data = [\n",
    "    (5, 5, 3),   # Isosceles\n",
    "    (4, 4, 4),   # Equilateral\n",
    "    (3, 4, 5),   # Scalene\n",
    "    (1, 2, 3),   # Not A Triangle\n",
    "    (7, 10, 5),  # Scalene\n",
    "    (6, 6, 10)   # Isosceles\n",
    "]\n",
    "\n",
    "df = spark.createDataFrame(data, schema=schema)\n",
    "\n",
    "# Save DataFrame as a temporary table\n",
    "df.createOrReplaceTempView(\"TRIANGLES\")\n"
   ]
  },
  {
   "cell_type": "code",
   "execution_count": 0,
   "metadata": {
    "application/vnd.databricks.v1+cell": {
     "cellMetadata": {
      "byteLimit": 2048000,
      "implicitDf": true,
      "rowLimit": 10000
     },
     "inputWidgets": {},
     "nuid": "6678d01a-939b-44c0-8a3c-c7316fc98ddb",
     "showTitle": false,
     "tableResultSettingsMap": {},
     "title": ""
    }
   },
   "outputs": [
    {
     "output_type": "display_data",
     "data": {
      "text/html": [
       "<style scoped>\n",
       "  .table-result-container {\n",
       "    max-height: 300px;\n",
       "    overflow: auto;\n",
       "  }\n",
       "  table, th, td {\n",
       "    border: 1px solid black;\n",
       "    border-collapse: collapse;\n",
       "  }\n",
       "  th, td {\n",
       "    padding: 5px;\n",
       "  }\n",
       "  th {\n",
       "    text-align: left;\n",
       "  }\n",
       "</style><div class='table-result-container'><table class='table-result'><thead style='background-color: white'><tr><th>Type_of_tringle</th></tr></thead><tbody><tr><td>Isosceles</td></tr><tr><td>Equilateral</td></tr><tr><td>Scalene</td></tr><tr><td>Not A Triangle</td></tr><tr><td>Scalene</td></tr><tr><td>Isosceles</td></tr></tbody></table></div>"
      ]
     },
     "metadata": {
      "application/vnd.databricks.v1+output": {
       "addedWidgets": {},
       "aggData": [],
       "aggError": "",
       "aggOverflow": false,
       "aggSchema": [],
       "aggSeriesLimitReached": false,
       "aggType": "",
       "arguments": {},
       "columnCustomDisplayInfos": {},
       "data": [
        [
         "Isosceles"
        ],
        [
         "Equilateral"
        ],
        [
         "Scalene"
        ],
        [
         "Not A Triangle"
        ],
        [
         "Scalene"
        ],
        [
         "Isosceles"
        ]
       ],
       "datasetInfos": [],
       "dbfsResultPath": null,
       "isJsonSchema": true,
       "metadata": {},
       "overflow": false,
       "plotOptions": {
        "customPlotOptions": {},
        "displayType": "table",
        "pivotAggregation": null,
        "pivotColumns": null,
        "xColumns": null,
        "yColumns": null
       },
       "removedWidgets": [],
       "schema": [
        {
         "metadata": "{}",
         "name": "Type_of_tringle",
         "type": "\"string\""
        }
       ],
       "type": "table"
      }
     },
     "output_type": "display_data"
    }
   ],
   "source": [
    "%sql\n",
    "SELECT CASE             \n",
    "            WHEN A + B > C AND B + C > A AND A + C > B THEN\n",
    "                CASE \n",
    "                    WHEN A = B AND B = C THEN 'Equilateral'\n",
    "                    WHEN A = B OR B = C OR A = C THEN 'Isosceles'\n",
    "                    ELSE 'Scalene'\n",
    "                END\n",
    "            ELSE 'Not A Triangle'\n",
    "        END AS Type_of_tringle\n",
    "FROM TRIANGLES"
   ]
  },
  {
   "cell_type": "code",
   "execution_count": 0,
   "metadata": {
    "application/vnd.databricks.v1+cell": {
     "cellMetadata": {
      "byteLimit": 2048000,
      "rowLimit": 10000
     },
     "inputWidgets": {},
     "nuid": "ef8045c2-82fb-4ae7-a4fb-c47c93537d9e",
     "showTitle": false,
     "tableResultSettingsMap": {},
     "title": ""
    }
   },
   "outputs": [
    {
     "output_type": "stream",
     "name": "stdout",
     "output_type": "stream",
     "text": [
      "+---------------+\n|Type_of_tringle|\n+---------------+\n|      Isosceles|\n|    Equilateral|\n|        Scalene|\n| Not A Triangle|\n|        Scalene|\n|      Isosceles|\n+---------------+\n\n"
     ]
    }
   ],
   "source": [
    "from pyspark.sql.functions import when\n",
    "df.selectExpr(\"\"\"CASE             \n",
    "            WHEN A + B > C AND B + C > A AND A + C > B THEN\n",
    "                CASE \n",
    "                    WHEN A = B AND B = C THEN 'Equilateral'\n",
    "                    WHEN A = B OR B = C OR A = C THEN 'Isosceles'\n",
    "                    ELSE 'Scalene'\n",
    "                END\n",
    "            ELSE 'Not A Triangle'\n",
    "        END AS Type_of_tringle\"\"\").show()\n",
    "            "
   ]
  },
  {
   "cell_type": "code",
   "execution_count": 0,
   "metadata": {
    "application/vnd.databricks.v1+cell": {
     "cellMetadata": {
      "byteLimit": 2048000,
      "rowLimit": 10000
     },
     "inputWidgets": {},
     "nuid": "40a22394-af60-4605-8ee3-b0847570ebdf",
     "showTitle": false,
     "tableResultSettingsMap": {},
     "title": ""
    }
   },
   "outputs": [
    {
     "output_type": "stream",
     "name": "stdout",
     "output_type": "stream",
     "text": [
      "+---+---+---+----------------+\n|  A|  B|  C|Type_of_triangle|\n+---+---+---+----------------+\n|  5|  5|  3|       Isosceles|\n|  4|  4|  4|     Equilateral|\n|  3|  4|  5|         Scalene|\n|  1|  2|  3|  Not A Triangle|\n|  7| 10|  5|         Scalene|\n|  6|  6| 10|       Isosceles|\n+---+---+---+----------------+\n\n"
     ]
    }
   ],
   "source": [
    "from pyspark.sql.functions import when\n",
    "\n",
    "df = df.withColumn(\n",
    "    \"Type_of_triangle\",\n",
    "    when((df.A == df.B) & (df.B == df.C), \"Equilateral\")\n",
    "    .when((df.A + df.B <= df.C) | (df.A + df.C <= df.B) | (df.B + df.C <= df.A), \"Not A Triangle\")\n",
    "    .when((df.A == df.B) | (df.B == df.C) | (df.A == df.C), \"Isosceles\")\n",
    "    .otherwise(\"Scalene\")\n",
    ")\n",
    "\n",
    "df.show()\n"
   ]
  }
 ],
 "metadata": {
  "application/vnd.databricks.v1+notebook": {
   "computePreferences": null,
   "dashboards": [],
   "environmentMetadata": {
    "base_environment": "",
    "environment_version": "1"
   },
   "inputWidgetPreferences": null,
   "language": "python",
   "notebookMetadata": {
    "mostRecentlyExecutedCommandWithImplicitDF": {
     "commandId": 3846122261982665,
     "dataframes": [
      "_sqldf"
     ]
    },
    "pythonIndentUnit": 4
   },
   "notebookName": "Type of Triangle",
   "widgets": {}
  }
 },
 "nbformat": 4,
 "nbformat_minor": 0
}